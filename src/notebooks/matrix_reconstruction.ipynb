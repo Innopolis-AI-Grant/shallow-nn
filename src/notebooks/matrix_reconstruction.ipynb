{
 "cells": [
  {
   "cell_type": "markdown",
   "id": "b66fa3f7",
   "metadata": {},
   "source": [
    "# Reconstruction of matrix"
   ]
  },
  {
   "cell_type": "code",
   "execution_count": null,
   "id": "2618c52d",
   "metadata": {},
   "outputs": [],
   "source": [
    "%load_ext autoreload\n",
    "%autoreload 2"
   ]
  },
  {
   "cell_type": "code",
   "execution_count": null,
   "id": "0f6563ca",
   "metadata": {},
   "outputs": [
    {
     "data": {
      "text/plain": [
       "device(type='cpu')"
      ]
     },
     "execution_count": 1,
     "metadata": {},
     "output_type": "execute_result"
    }
   ],
   "source": [
    "import os\n",
    "import sys\n",
    "from typing import Literal, Optional\n",
    "\n",
    "import torch\n",
    "import torch.nn as nn\n",
    "import torch.nn.functional as F\n",
    "\n",
    "ROOT_FOLDER = os.path.join(\".\", \"..\")\n",
    "if ROOT_FOLDER not in sys.path:\n",
    "    sys.path.insert(0, ROOT_FOLDER)\n",
    "\n",
    "DEVICE = torch.device(\"cuda\" if torch.cuda.is_available() else \"cpu\")\n",
    "DEVICE"
   ]
  },
  {
   "cell_type": "markdown",
   "id": "8c495a09",
   "metadata": {},
   "source": [
    "## Utils"
   ]
  },
  {
   "cell_type": "code",
   "execution_count": 2,
   "id": "9f757a5f",
   "metadata": {},
   "outputs": [],
   "source": [
    "def generate_tensor_in_range(\n",
    "    size: tuple,\n",
    "    value_range: tuple = (0, 1),\n",
    "    seed: int = 420,\n",
    "    dtype: torch.dtype = torch.float32,\n",
    "    device: str | torch.device | None = DEVICE,\n",
    ") -> torch.Tensor:\n",
    "    generator = torch.Generator(device=DEVICE).manual_seed(seed)\n",
    "\n",
    "    min_val, max_val = value_range\n",
    "    if not min_val < max_val:\n",
    "        raise RuntimeError(\n",
    "            f\"The minimum value of the range ({min_val}) must be strictly \"\n",
    "            f\"less than the maximum value ({max_val}).\"\n",
    "        )\n",
    "\n",
    "    if dtype.is_floating_point:\n",
    "        tensor = torch.rand(size, generator=generator, dtype=dtype, device=device)\n",
    "        tensor = tensor * (max_val - min_val) + min_val\n",
    "    else:\n",
    "        tensor = torch.randint(\n",
    "            low=int(min_val),\n",
    "            high=int(max_val),\n",
    "            size=size,\n",
    "            dtype=dtype,\n",
    "            generator=generator,\n",
    "            device=device,\n",
    "        )\n",
    "\n",
    "    return tensor"
   ]
  },
  {
   "cell_type": "code",
   "execution_count": 3,
   "id": "a7f11f16",
   "metadata": {},
   "outputs": [],
   "source": [
    "def count_parameters(model: nn.Module) -> int:\n",
    "    return sum(p.numel() for p in model.parameters())"
   ]
  },
  {
   "cell_type": "markdown",
   "id": "134dbcfa",
   "metadata": {},
   "source": [
    "## Models"
   ]
  },
  {
   "cell_type": "markdown",
   "id": "78fdfe40",
   "metadata": {},
   "source": [
    "### Basic"
   ]
  },
  {
   "cell_type": "code",
   "execution_count": 4,
   "id": "7c09fb80",
   "metadata": {},
   "outputs": [],
   "source": [
    "class Basic(nn.Module):\n",
    "    def __init__(\n",
    "        self, matrix_shape: tuple[int, int] | torch.Size, device=DEVICE, **kwargs\n",
    "    ):\n",
    "        super().__init__()\n",
    "        self.m, self.n = matrix_shape[0], matrix_shape[1]\n",
    "\n",
    "        generator = torch.Generator(device=DEVICE).manual_seed(420)\n",
    "        self.w = nn.Parameter(\n",
    "            torch.randn(\n",
    "                self.m, self.n, generator=generator, dtype=torch.float32, device=device\n",
    "            )\n",
    "        )\n",
    "\n",
    "    def forward(self):\n",
    "        return self.w"
   ]
  },
  {
   "cell_type": "markdown",
   "id": "39ccd7ca",
   "metadata": {},
   "source": [
    "### Original"
   ]
  },
  {
   "cell_type": "code",
   "execution_count": 5,
   "id": "25960e02",
   "metadata": {},
   "outputs": [],
   "source": [
    "def fn(x, y, a, b, c, d, u, v):\n",
    "    return c * torch.exp(-((a * x - u) ** 2) - (b * y - v) ** 2) + d\n",
    "\n",
    "\n",
    "def generate_grid_torch(\n",
    "    rows: int,\n",
    "    cols: int,\n",
    "    values_range: tuple[float, float] = (-1, 1),\n",
    "    device: torch.device = DEVICE,\n",
    "):\n",
    "    \"\"\"Generates a 2D grid of coordinates as a PyTorch tensor.\"\"\"\n",
    "    x = torch.linspace(*values_range, cols, device=device)\n",
    "    y = torch.linspace(*values_range, rows, device=device)\n",
    "    yy, xx = torch.meshgrid(y, x, indexing=\"ij\")\n",
    "    return torch.stack((xx, yy), dim=-1)\n",
    "\n",
    "\n",
    "class FunctionLayer(nn.Module):\n",
    "    def __init__(\n",
    "        self,\n",
    "        in_features: int,\n",
    "        out_features: int,\n",
    "        k: int,\n",
    "        f,\n",
    "        bias: Optional[Literal[\"single\", \"multiple\"]] = None,\n",
    "        activation=nn.LeakyReLU(),\n",
    "        generator=None,\n",
    "        device: torch.device = DEVICE,\n",
    "    ):\n",
    "        super(FunctionLayer, self).__init__()\n",
    "        self.in_features = in_features\n",
    "        self.out_features = out_features\n",
    "        self.k = k\n",
    "        self.f = f\n",
    "        self.activation = activation\n",
    "\n",
    "        points = generate_grid_torch(in_features, out_features, device=device)\n",
    "        self.register_buffer(\"points\", points)\n",
    "\n",
    "        self.param_a = nn.Parameter(\n",
    "            torch.randn(k, 1, 1, dtype=torch.float32, device=device, generator=generator)\n",
    "        )\n",
    "        self.param_b = nn.Parameter(\n",
    "            torch.randn(k, 1, 1, dtype=torch.float32, device=device, generator=generator)\n",
    "        )\n",
    "        self.param_c = nn.Parameter(\n",
    "            torch.randn(k, 1, 1, dtype=torch.float32, device=device, generator=generator)\n",
    "        )\n",
    "        self.param_d = nn.Parameter(\n",
    "            torch.randn(k, 1, 1, dtype=torch.float32, device=device, generator=generator)\n",
    "        )\n",
    "        self.param_u = nn.Parameter(\n",
    "            torch.randn(k, 1, 1, dtype=torch.float32, device=device, generator=generator)\n",
    "        )\n",
    "        self.param_v = nn.Parameter(\n",
    "            torch.randn(k, 1, 1, dtype=torch.float32, device=device, generator=generator)\n",
    "        )\n",
    "\n",
    "        if bias == \"single\":\n",
    "            self.b = nn.Parameter(\n",
    "                torch.randn(1, dtype=torch.float32, device=device, generator=generator)\n",
    "            )\n",
    "        elif bias == \"multiple\":\n",
    "            self.b = nn.Parameter(\n",
    "                torch.randn(\n",
    "                    out_features, dtype=torch.float32, device=device, generator=generator\n",
    "                )\n",
    "            )\n",
    "        else:\n",
    "            self.b = 0\n",
    "\n",
    "    def forward(self):\n",
    "        # Extract the base x and y coordinates from the grid.\n",
    "        # Shape: [in_features, out_features]\n",
    "        x_coords = self.points[..., 0]\n",
    "        y_coords = self.points[..., 1]\n",
    "\n",
    "        f_values = self.f(\n",
    "            x_coords,\n",
    "            y_coords,\n",
    "            self.param_a,\n",
    "            self.param_b,\n",
    "            self.param_c,\n",
    "            self.param_d,\n",
    "            self.param_u,\n",
    "            self.param_v,\n",
    "        )  # [k, in_features, out_features]\n",
    "        # f_values shape: [k, in_features, out_features]\n",
    "\n",
    "        # Sum the k basis functions to create the final weight matrix.\n",
    "        ws = f_values.sum(dim=0)  # ws shape: [in_features, out_features]\n",
    "\n",
    "        return ws + self.b\n",
    "\n",
    "    def extra_repr(self):\n",
    "        return f\"in_features={self.in_features}, out_features={self.out_features}, k={self.k}\"\n",
    "\n",
    "\n",
    "class Reconstructor(nn.Module):\n",
    "    def __init__(\n",
    "        self,\n",
    "        matrix_shape: tuple[int, int] | torch.Size,\n",
    "        f=fn,\n",
    "        k: int = 64,\n",
    "        bias: Optional[Literal[\"single\", \"multiple\"]] = None,\n",
    "    ):\n",
    "        super(Reconstructor, self).__init__()\n",
    "\n",
    "        generator = torch.Generator(device=DEVICE).manual_seed(420)\n",
    "\n",
    "        self.layer = FunctionLayer(\n",
    "            in_features=matrix_shape[0],\n",
    "            out_features=matrix_shape[1],\n",
    "            k=k,\n",
    "            f=f,\n",
    "            activation=nn.LeakyReLU(),\n",
    "            bias=bias,\n",
    "            generator=generator,\n",
    "        )\n",
    "\n",
    "    def forward(self):\n",
    "        return self.layer.forward()"
   ]
  },
  {
   "cell_type": "markdown",
   "id": "618daca6",
   "metadata": {},
   "source": [
    "### Gaussian Mixture"
   ]
  },
  {
   "cell_type": "code",
   "execution_count": 6,
   "id": "75526328",
   "metadata": {},
   "outputs": [],
   "source": [
    "class GaussianMixture2D(nn.Module):\n",
    "    \"\"\"\n",
    "    Approximates an m-by-n matrix as a sum of k separable 2D Gaussians.\n",
    "    Each Gaussian i has amplitude A_i, centers (mu_x_i, mu_y_i) and widths (sigma_x_i, sigma_y_i).\n",
    "    \"\"\"\n",
    "\n",
    "    def __init__(self, matrix_shape: tuple[int, int] | torch.Size, k: int, device=DEVICE):\n",
    "        super().__init__()\n",
    "        self.m, self.n = matrix_shape[0], matrix_shape[1]\n",
    "        self.k = k\n",
    "        generator = torch.Generator(device=DEVICE).manual_seed(420)\n",
    "\n",
    "        # Precompute grid of x,y coordinates in [-1,1] for each dimension\n",
    "        xs = torch.linspace(-1, 1, self.n, device=device)\n",
    "        ys = torch.linspace(-1, 1, self.m, device=device)\n",
    "        yy, xx = torch.meshgrid(ys, xs, indexing=\"ij\")  # shape [m,n]\n",
    "        self.register_buffer(\"X\", xx)\n",
    "        self.register_buffer(\"Y\", yy)\n",
    "\n",
    "        # Learnable parameters for each Gaussian\n",
    "        # Amplitude and bias:\n",
    "        self.amplitude = nn.Parameter(\n",
    "            torch.randn(k, 1, self.n, generator=generator, device=device)\n",
    "        )\n",
    "        self.center_x = nn.Parameter(\n",
    "            torch.randn(k, self.m, 1, generator=generator, device=device)\n",
    "        )\n",
    "        self.center_y = nn.Parameter(\n",
    "            torch.randn(k, self.m, 1, generator=generator, device=device)\n",
    "        )\n",
    "        self.log_sigma_x = nn.Parameter(\n",
    "            torch.randn(k, 1, self.n, generator=generator, device=device)\n",
    "        )\n",
    "        self.log_sigma_y = nn.Parameter(\n",
    "            torch.randn(k, 1, self.n, generator=generator, device=device)\n",
    "        )\n",
    "        self.bias = nn.Parameter(\n",
    "            torch.randn(1, self.n, generator=generator, device=device)\n",
    "        )\n",
    "        # self.bias = nn.Parameter(torch.randn(1, generator=generator, device=device))\n",
    "\n",
    "    def forward(self):\n",
    "        # Apply softplus to sigmas to ensure positive widths\n",
    "        sigma_x = F.softplus(self.log_sigma_x) + 1e-3  # shape [k,1,1]\n",
    "        sigma_y = F.softplus(self.log_sigma_y) + 1e-3\n",
    "\n",
    "        # sigma_x = self.log_sigma_x**2\n",
    "        # sigma_y = self.log_sigma_y**2\n",
    "\n",
    "        # Broadcast coordinate grid to [k,m,n] by adding leading dim\n",
    "        X = self.X.unsqueeze(0)  # [1,m,n] -> [k,m,n] by broadcast\n",
    "        Y = self.Y.unsqueeze(0)\n",
    "        cx = self.center_x  # [k,1,1]\n",
    "        cy = self.center_y\n",
    "\n",
    "        # Compute squared distances normalized by sigma^2\n",
    "        dx2 = ((X - cx) ** 2) / (2 * sigma_x**2)\n",
    "        dy2 = ((Y - cy) ** 2) / (2 * sigma_y**2)\n",
    "        gaussians = self.amplitude * torch.exp(-(dx2 + dy2))  # [k,m,n]\n",
    "        out = gaussians.sum(dim=0) + self.bias  # sum over k -> [m,n] + bias\n",
    "        return out"
   ]
  },
  {
   "cell_type": "markdown",
   "id": "6290a275",
   "metadata": {},
   "source": [
    "## Reconstruction"
   ]
  },
  {
   "cell_type": "code",
   "execution_count": 7,
   "id": "06a24054",
   "metadata": {},
   "outputs": [],
   "source": [
    "def reconstruct(\n",
    "    y: torch.Tensor,\n",
    "    model_class: type[nn.Module] = Reconstructor,\n",
    "    epochs: int = 100,\n",
    "    log_interval: int = 10,\n",
    "    loss_fn: Literal[\"mse\", \"mae\"] = \"mse\",\n",
    "    lr: float = 1e-2,\n",
    "    **kwargs,\n",
    ") -> torch.Tensor:\n",
    "    if loss_fn == \"mse\":\n",
    "        _loss_fn = torch.nn.MSELoss()\n",
    "    else:\n",
    "        _loss_fn = torch.nn.L1Loss()\n",
    "\n",
    "    model = model_class(matrix_shape=y.shape, **kwargs).to(DEVICE)\n",
    "\n",
    "    print(f\"Model with {count_parameters(model)} parameters\\n\")\n",
    "\n",
    "    model.train()\n",
    "    optimizer = torch.optim.Adam(model.parameters(), lr=lr)\n",
    "    losses = []\n",
    "\n",
    "    for epoch in range(1, epochs + 1):\n",
    "        optimizer.zero_grad()\n",
    "\n",
    "        y_hat = model.forward()\n",
    "\n",
    "        loss = _loss_fn(y_hat, y)\n",
    "        loss.backward()\n",
    "\n",
    "        optimizer.step()\n",
    "\n",
    "        losses.append(loss.item())\n",
    "        if (epoch - 1) % log_interval == 0 or epoch == epochs:\n",
    "            print(f\"Epoch {epoch:0>3}/{epochs}: Loss: {loss.item():.3f}\")\n",
    "\n",
    "    return model.forward().detach().numpy()"
   ]
  },
  {
   "cell_type": "markdown",
   "id": "b3bfd97d",
   "metadata": {},
   "source": [
    "## Experiments"
   ]
  },
  {
   "cell_type": "code",
   "execution_count": 8,
   "id": "e4342b99",
   "metadata": {},
   "outputs": [
    {
     "name": "stdout",
     "output_type": "stream",
     "text": [
      "Model with 10000 parameters\n",
      "\n",
      "Epoch 001/1000: Loss: 5.370\n",
      "Epoch 101/1000: Loss: 4.413\n",
      "Epoch 201/1000: Loss: 3.543\n",
      "Epoch 301/1000: Loss: 2.761\n",
      "Epoch 401/1000: Loss: 2.071\n",
      "Epoch 501/1000: Loss: 1.477\n",
      "Epoch 601/1000: Loss: 0.982\n",
      "Epoch 701/1000: Loss: 0.587\n",
      "Epoch 801/1000: Loss: 0.293\n",
      "Epoch 901/1000: Loss: 0.101\n",
      "Epoch 1000/1000: Loss: 0.021\n"
     ]
    }
   ],
   "source": [
    "y = generate_tensor_in_range((100, 100), value_range=(-10, 10))\n",
    "\n",
    "_ = reconstruct(\n",
    "    y,\n",
    "    model_class=Basic,\n",
    "    loss_fn=\"mae\",\n",
    "    epochs=1000,\n",
    "    log_interval=100,\n",
    "    lr=1e-2,\n",
    "    k=512,\n",
    ")"
   ]
  },
  {
   "cell_type": "code",
   "execution_count": 11,
   "id": "7e39ec63",
   "metadata": {},
   "outputs": [
    {
     "name": "stdout",
     "output_type": "stream",
     "text": [
      "Model with 3172 parameters\n",
      "\n",
      "Epoch 001/1000: Loss: 7.688\n",
      "Epoch 101/1000: Loss: 4.933\n",
      "Epoch 201/1000: Loss: 4.908\n",
      "Epoch 301/1000: Loss: 4.898\n",
      "Epoch 401/1000: Loss: 4.894\n",
      "Epoch 501/1000: Loss: 4.892\n",
      "Epoch 601/1000: Loss: 4.892\n",
      "Epoch 701/1000: Loss: 4.890\n",
      "Epoch 801/1000: Loss: 4.891\n",
      "Epoch 901/1000: Loss: 4.889\n",
      "Epoch 1000/1000: Loss: 4.892\n"
     ]
    }
   ],
   "source": [
    "y = generate_tensor_in_range((100, 100), value_range=(-10, 10))\n",
    "\n",
    "_ = reconstruct(\n",
    "    y,\n",
    "    model_class=Reconstructor,\n",
    "    loss_fn=\"mae\",\n",
    "    epochs=1000,\n",
    "    log_interval=100,\n",
    "    lr=1e-2,\n",
    "    bias=\"multiple\",\n",
    "    k=512,\n",
    ")"
   ]
  },
  {
   "cell_type": "code",
   "execution_count": 10,
   "id": "8ed0daa6",
   "metadata": {},
   "outputs": [
    {
     "name": "stdout",
     "output_type": "stream",
     "text": [
      "Model with 8100 parameters\n",
      "\n",
      "Epoch 001/1000: Loss: 5.137\n",
      "Epoch 101/1000: Loss: 4.397\n",
      "Epoch 201/1000: Loss: 3.843\n",
      "Epoch 301/1000: Loss: 3.391\n",
      "Epoch 401/1000: Loss: 3.048\n",
      "Epoch 501/1000: Loss: 2.794\n",
      "Epoch 601/1000: Loss: 2.603\n",
      "Epoch 701/1000: Loss: 2.456\n",
      "Epoch 801/1000: Loss: 2.337\n",
      "Epoch 901/1000: Loss: 2.242\n",
      "Epoch 1000/1000: Loss: 2.165\n"
     ]
    }
   ],
   "source": [
    "y = generate_tensor_in_range((100, 100), value_range=(-10, 10))\n",
    "\n",
    "_ = reconstruct(\n",
    "    y,\n",
    "    model_class=GaussianMixture2D,\n",
    "    loss_fn=\"mae\",\n",
    "    epochs=1000,\n",
    "    log_interval=100,\n",
    "    lr=5e-3,\n",
    "    k=16,\n",
    ")"
   ]
  }
 ],
 "metadata": {
  "kernelspec": {
   "display_name": "shallow-nn",
   "language": "python",
   "name": "python3"
  },
  "language_info": {
   "codemirror_mode": {
    "name": "ipython",
    "version": 3
   },
   "file_extension": ".py",
   "mimetype": "text/x-python",
   "name": "python",
   "nbconvert_exporter": "python",
   "pygments_lexer": "ipython3",
   "version": "3.13.7"
  }
 },
 "nbformat": 4,
 "nbformat_minor": 5
}
